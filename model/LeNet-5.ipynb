{
 "cells": [
  {
   "cell_type": "code",
   "execution_count": 3,
   "metadata": {},
   "outputs": [],
   "source": [
    "import numpy as np\n",
    "from keras import models\n",
    "from keras import layers"
   ]
  },
  {
   "cell_type": "code",
   "execution_count": 22,
   "metadata": {},
   "outputs": [
    {
     "name": "stdout",
     "output_type": "stream",
     "text": [
      "(None, 28, 28, 6)\n",
      "(None, 14, 14, 6)\n",
      "(None, 10, 10, 16)\n",
      "(None, 5, 5, 16)\n",
      "(None, 1, 1, 120)\n",
      "(None, 1, 1, 84)\n",
      "(None, 1, 1, 10)\n"
     ]
    }
   ],
   "source": [
    "# input = np.random.rand(1, 32, 32, 1)\n",
    "input_tensor = layers.Input(shape=(32, 32, 1))\n",
    "print(\"input_tensor:\", input_tensor.shape)\n",
    "x = layers.Conv2D(6, kernel_size = 5, padding = 'valid', activation = 'tanh')(input_tensor)\n",
    "print(\"c1 shape:\", x.shape)\n",
    "x = layers.AveragePooling2D(pool_size = (2,2), strides= (2,2))(x)\n",
    "print(\"s2 shape:\", x.shape)\n",
    "x = layers.Conv2D(16, kernel_size = 5, padding = 'valid',  activation = 'tanh')(x)\n",
    "print(\"c3 shape:\", x.shape)\n",
    "x = layers.AveragePooling2D(pool_size = (2,2), strides= (2,2))(x)\n",
    "print(\"s4 shape:\", x.shape)\n",
    "x = layers.Conv2D(120, kernel_size = 5, padding = 'valid',  activation = 'tanh')(x)\n",
    "print(\"c5 shape:\", x.shape)\n",
    "x = layers.Dense(84)(x)\n",
    "print(\"F6 shape:\", x.shape)\n",
    "output = layers.Dense(10)(x)\n",
    "print(x.shape)"
   ]
  },
  {
   "cell_type": "code",
   "execution_count": 14,
   "metadata": {},
   "outputs": [
    {
     "ename": "SyntaxError",
     "evalue": "unmatched ')' (<ipython-input-14-ad0f74f7eece>, line 3)",
     "output_type": "error",
     "traceback": [
      "\u001b[1;36m  File \u001b[1;32m\"<ipython-input-14-ad0f74f7eece>\"\u001b[1;36m, line \u001b[1;32m3\u001b[0m\n\u001b[1;33m    model = Sequential(6, kernel_size = 5, padidng = 'same', input_shape = input_shape))\u001b[0m\n\u001b[1;37m                                                                                       ^\u001b[0m\n\u001b[1;31mSyntaxError\u001b[0m\u001b[1;31m:\u001b[0m unmatched ')'\n"
     ]
    }
   ],
   "source": [
    "model = Sequential()\n",
    "model.add(Conv2D())\n",
    "model = Sequential(6, kernel_size = 5, padidng = 'same', input_shape = input_shape))\n",
    "    \n",
    "    model.add(Conv2D(20, kernel_size = 5, padding=\"same\", input_shape=input_shape))\n",
    "    model.add(Activation(\"relu\"))\n",
    "    model.add(MaxPooling2D(pool_size = (2,2), strides = (2,2)))\n",
    "    model.add(Conv2D(50, kernel_size = 5, padding=\"same\"))\n",
    "    model.add(Activation(\"relu\"))\n",
    "    model.add(MaxPooling2D(pool_size = (2,2), strides = (2,2)))\n",
    "    model.add(Flatten())\n",
    "    model.add(Dense(500))\n",
    "    model.add(Activation(\"relu\"))\n",
    "    model.add(Dense(10))\n",
    "    model.add(Activation(\"softmax\"))\n",
    "    return model"
   ]
  },
  {
   "cell_type": "code",
   "execution_count": null,
   "metadata": {},
   "outputs": [],
   "source": []
  }
 ],
 "metadata": {
  "kernelspec": {
   "display_name": "keras",
   "language": "python",
   "name": "keras"
  },
  "language_info": {
   "codemirror_mode": {
    "name": "ipython",
    "version": 3
   },
   "file_extension": ".py",
   "mimetype": "text/x-python",
   "name": "python",
   "nbconvert_exporter": "python",
   "pygments_lexer": "ipython3",
   "version": "3.8.5"
  }
 },
 "nbformat": 4,
 "nbformat_minor": 4
}
