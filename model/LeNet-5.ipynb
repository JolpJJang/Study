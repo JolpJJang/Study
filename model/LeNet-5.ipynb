{
 "cells": [
  {
   "cell_type": "code",
   "execution_count": 1,
   "metadata": {},
   "outputs": [],
   "source": [
    "import numpy as np\n",
    "from keras import models\n",
    "from keras import layers"
   ]
  },
  {
   "cell_type": "code",
   "execution_count": 2,
   "metadata": {},
   "outputs": [
    {
     "name": "stdout",
     "output_type": "stream",
     "text": [
      "input_tensor: (None, 32, 32, 1)\n",
      "c1 shape: (None, 28, 28, 6)\n",
      "s2 shape: (None, 14, 14, 6)\n",
      "c3 shape: (None, 10, 10, 16)\n",
      "s4 shape: (None, 5, 5, 16)\n",
      "c5 shape: (None, 1, 1, 120)\n",
      "F6 shape: (None, 1, 1, 84)\n",
      "output shape: (None, 1, 1, 10)\n"
     ]
    }
   ],
   "source": [
    "# input = np.random.rand(1, 32, 32, 1)\n",
    "input_tensor = layers.Input(shape=(32, 32, 1))\n",
    "print(\"input_tensor:\", input_tensor.shape)\n",
    "x = layers.Conv2D(6, kernel_size = 5, padding = 'valid', activation = 'tanh')(input_tensor)\n",
    "print(\"c1 shape:\", x.shape)\n",
    "x = layers.AveragePooling2D(pool_size = (2,2), strides= (2,2))(x)\n",
    "print(\"s2 shape:\", x.shape)\n",
    "x = layers.Conv2D(16, kernel_size = 5, padding = 'valid',  activation = 'tanh')(x)\n",
    "print(\"c3 shape:\", x.shape)\n",
    "x = layers.AveragePooling2D(pool_size = (2,2), strides= (2,2))(x)\n",
    "print(\"s4 shape:\", x.shape)\n",
    "x = layers.Conv2D(120, kernel_size = 5, padding = 'valid',  activation = 'tanh')(x)\n",
    "print(\"c5 shape:\", x.shape)\n",
    "x = layers.Dense(84)(x)\n",
    "print(\"F6 shape:\", x.shape)\n",
    "output = layers.Dense(10)(x)\n",
    "print(\"output shape:\", output.shape)"
   ]
  },
  {
   "cell_type": "code",
   "execution_count": 3,
   "metadata": {},
   "outputs": [],
   "source": [
    "from keras.datasets import mnist\n",
    "from keras.utils import np_utils\n",
    "from keras.models import Sequential, Model"
   ]
  },
  {
   "cell_type": "code",
   "execution_count": 4,
   "metadata": {},
   "outputs": [],
   "source": [
    "(train_x, train_y), (test_x, test_y) = mnist.load_data()"
   ]
  },
  {
   "cell_type": "code",
   "execution_count": 5,
   "metadata": {},
   "outputs": [],
   "source": [
    "train_x = train_x.astype('float32')\n",
    "test_x = test_x.astype('float32')"
   ]
  },
  {
   "cell_type": "code",
   "execution_count": 6,
   "metadata": {},
   "outputs": [
    {
     "name": "stdout",
     "output_type": "stream",
     "text": [
      "(60000, 28, 28, 1) (10000, 28, 28, 1)\n"
     ]
    }
   ],
   "source": [
    "# 스케일 조정\n",
    "train_x = train_x / 255\n",
    "test_x = test_x / 255\n",
    "train_x = train_x[:, :, :,np.newaxis]\n",
    "test_x = test_x[:, :, :, np.newaxis]\n",
    "print(train_x.shape, test_x.shape)"
   ]
  },
  {
   "cell_type": "code",
   "execution_count": 7,
   "metadata": {},
   "outputs": [
    {
     "name": "stdout",
     "output_type": "stream",
     "text": [
      "(60000, 32, 32, 1) (10000, 32, 32, 1)\n"
     ]
    }
   ],
   "source": [
    "train_x = np.pad(train_x, ((0,0), (2,2), (2,2), (0,0)), 'constant')\n",
    "test_x = np.pad(test_x, ((0,0), (2,2), (2,2), (0,0)), 'constant')\n",
    "print(train_x.shape, test_x.shape)"
   ]
  },
  {
   "cell_type": "code",
   "execution_count": 8,
   "metadata": {},
   "outputs": [
    {
     "name": "stdout",
     "output_type": "stream",
     "text": [
      "(60000, 10)\n"
     ]
    }
   ],
   "source": [
    "train_y = np_utils.to_categorical(train_y, 10)\n",
    "test_y = np_utils.to_categorical(test_y, 10)\n",
    "print(train_y.shape)"
   ]
  },
  {
   "cell_type": "code",
   "execution_count": 9,
   "metadata": {},
   "outputs": [],
   "source": [
    "model = Sequential()\n",
    "model.add( layers.Conv2D(6, kernel_size = 5, padding = 'valid', activation = 'tanh', input_shape = (32, 32, 1)))\n",
    "model.add( layers.AveragePooling2D(pool_size = (2,2), strides= (2,2)))\n",
    "model.add(layers.Conv2D(16, kernel_size = 5, padding = 'valid',  activation = 'tanh'))\n",
    "model.add( layers.AveragePooling2D(pool_size = (2,2), strides= (2,2)))\n",
    "model.add(layers.Conv2D(120, kernel_size = 5, padding = 'valid',  activation = 'tanh'))\n",
    "model.add(layers.Flatten())\n",
    "model.add(layers.Dense(84))\n",
    "model.add(layers.Dense(10))"
   ]
  },
  {
   "cell_type": "code",
   "execution_count": 10,
   "metadata": {},
   "outputs": [
    {
     "name": "stdout",
     "output_type": "stream",
     "text": [
      "Model: \"sequential\"\n",
      "_________________________________________________________________\n",
      "Layer (type)                 Output Shape              Param #   \n",
      "=================================================================\n",
      "conv2d_3 (Conv2D)            (None, 28, 28, 6)         156       \n",
      "_________________________________________________________________\n",
      "average_pooling2d_2 (Average (None, 14, 14, 6)         0         \n",
      "_________________________________________________________________\n",
      "conv2d_4 (Conv2D)            (None, 10, 10, 16)        2416      \n",
      "_________________________________________________________________\n",
      "average_pooling2d_3 (Average (None, 5, 5, 16)          0         \n",
      "_________________________________________________________________\n",
      "conv2d_5 (Conv2D)            (None, 1, 1, 120)         48120     \n",
      "_________________________________________________________________\n",
      "flatten (Flatten)            (None, 120)               0         \n",
      "_________________________________________________________________\n",
      "dense_2 (Dense)              (None, 84)                10164     \n",
      "_________________________________________________________________\n",
      "dense_3 (Dense)              (None, 10)                850       \n",
      "=================================================================\n",
      "Total params: 61,706\n",
      "Trainable params: 61,706\n",
      "Non-trainable params: 0\n",
      "_________________________________________________________________\n"
     ]
    }
   ],
   "source": [
    "model.summary()"
   ]
  },
  {
   "cell_type": "code",
   "execution_count": 11,
   "metadata": {},
   "outputs": [],
   "source": [
    "model.compile(optimizer = 'adam', loss = 'categorical_crossentropy', metrics=[\"accuracy\"])"
   ]
  },
  {
   "cell_type": "code",
   "execution_count": null,
   "metadata": {},
   "outputs": [
    {
     "name": "stdout",
     "output_type": "stream",
     "text": [
      "Epoch 1/10\n",
      "750/750 [==============================] - 10s 13ms/step - loss: 8.4456 - accuracy: 0.1244 - val_loss: 8.7508 - val_accuracy: 0.1339\n",
      "Epoch 2/10\n",
      "750/750 [==============================] - 9s 12ms/step - loss: 8.7148 - accuracy: 0.1257 - val_loss: 8.7508 - val_accuracy: 0.1339\n",
      "Epoch 3/10\n",
      "750/750 [==============================] - 12s 16ms/step - loss: 8.7268 - accuracy: 0.1275 - val_loss: 8.7508 - val_accuracy: 0.1339\n",
      "Epoch 4/10\n",
      "750/750 [==============================] - 14s 19ms/step - loss: 8.6911 - accuracy: 0.1240 - val_loss: 8.7508 - val_accuracy: 0.1339\n",
      "Epoch 5/10\n",
      "750/750 [==============================] - 13s 17ms/step - loss: 8.6404 - accuracy: 0.1288 - val_loss: 8.7508 - val_accuracy: 0.1339\n",
      "Epoch 6/10\n",
      "750/750 [==============================] - 12s 16ms/step - loss: 8.6911 - accuracy: 0.1259 - val_loss: 8.7508 - val_accuracy: 0.1339\n",
      "Epoch 7/10\n",
      "750/750 [==============================] - 15s 20ms/step - loss: 8.6994 - accuracy: 0.1253 - val_loss: 8.7508 - val_accuracy: 0.1339\n",
      "Epoch 8/10\n",
      "750/750 [==============================] - 14s 18ms/step - loss: 8.6791 - accuracy: 0.1257 - val_loss: 8.7508 - val_accuracy: 0.1339\n",
      "Epoch 9/10\n",
      "482/750 [==================>...........] - ETA: 4s - loss: 8.7302 - accuracy: 0.1300"
     ]
    }
   ],
   "source": [
    "hist = model.fit(train_x, train_y, batch_size=64, epochs=10, verbose=1, validation_split=0.2)"
   ]
  },
  {
   "cell_type": "code",
   "execution_count": null,
   "metadata": {},
   "outputs": [],
   "source": []
  }
 ],
 "metadata": {
  "kernelspec": {
   "display_name": "keras",
   "language": "python",
   "name": "keras"
  },
  "language_info": {
   "codemirror_mode": {
    "name": "ipython",
    "version": 3
   },
   "file_extension": ".py",
   "mimetype": "text/x-python",
   "name": "python",
   "nbconvert_exporter": "python",
   "pygments_lexer": "ipython3",
   "version": "3.8.5"
  }
 },
 "nbformat": 4,
 "nbformat_minor": 4
}
