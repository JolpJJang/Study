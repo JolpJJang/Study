{
 "cells": [
  {
   "attachments": {},
   "cell_type": "markdown",
   "id": "thrown-gardening",
   "metadata": {},
   "source": [
    "# 합성곱 신경망\n",
    "- 교차 상관 연산: x의 일부분에만 랜덤한 w가 한칸씩 이동하면서 곱해줌\n",
    "- 밸리드 패딩: x 배열의 앞 또는 뒤에 0을 붙이지 않고 w 배열 연산\n",
    "- 풀패딩: 밸리드 패딩 시 각 x에 따른 w 연산 횟수가 다른 점을 보완하고자 x 배열 패딩 앞뒤에 제로 패딩 붙임.\n",
    "- **세임 패딩**: 일반적으로 합성곱에서 주로 사용, 입력데이터 개수만큼 출력 데이터 나오게끔 패딩해 줌. 케라스에서 자동으로 해줌.\n",
    "- 스트라이드(=슬라이드 양): 기본적으로 1로 지정하지만, 2로 지정할 시 두 칸씩 건너뛰기 때문에 남은 입력데이터가 연산이 되지 않음.\n",
    "\n",
    "## 2차원 배열의 합성곱\n",
    "### 2차원 배열의 세임 패딩\n",
    "- 입력과 동일한 합성곱 출력배열을 얻고싶으면 패딩을 한칸 씩 패딩함\n",
    "![image](https://user-images.githubusercontent.com/47033052/108338711-ea903400-7219-11eb-9a7f-97f8fdb90e3e.png)\n",
    "### 2차원 배열의 스트라이드\n",
    "- 두 칸씩 건너뛰어 연산\n",
    "![image](https://user-images.githubusercontent.com/47033052/108338840-0c89b680-721a-11eb-9303-c036e5ea187c.png)\n",
    "\n",
    "### 이미지 데이터와 커널\n",
    "- 가중치의 깊이는 입력 데이터 채널의 개수와 같음.\n",
    "- 가중치 여러 개 쓰는 이유: 각 가중치에 따른 여러 패턴 감지\n",
    "![image](https://user-images.githubusercontent.com/47033052/108339974-6ccd2800-721b-11eb-8fa2-c59ca1fec04c.png)\n",
    "\n",
    "### 이미지 데이터의 합성곱 연산\n",
    "![image](https://user-images.githubusercontent.com/47033052/108340232-b158c380-721b-11eb-9c94-fcbed57b4916.png)\n",
    "\n",
    "## 풀링\n",
    "- 합성곱층을 통과한 피쳐맵을 풀링을 통과시켜 차원 축소(깊이는 줄어들지 않음)\n",
    "- 활성화함수(ReLU)를 거친 피쳐맵을 적용\n",
    "- 항상 두 칸씩 건너뛰어 스트라이드는 2\n",
    "- 평균 풀링은 특성을 희석시킬 수 있어, 최대 풀링이 더 성능이 좋음.\n",
    "![image](https://user-images.githubusercontent.com/47033052/108340565-0f85a680-721c-11eb-8cc2-72c4e5c95ec7.png)\n",
    "\n",
    "## 합성곱 신경망\n",
    "- 풀링층의 3차원 배열을 1차원 배열로 펼친 후 마지막에 완전 연결층 연결\n",
    "- 합성곱-풀링 반복하다가 완전연결층\n",
    "![image](https://user-images.githubusercontent.com/47033052/108341202-c6822200-721c-11eb-9fe8-ffc3ab702d4c.png)"
   ]
  },
  {
   "cell_type": "markdown",
   "id": "bridal-simon",
   "metadata": {},
   "source": [
    "## 합성곱 신경망 훈련\n",
    "- 합성곱 신경망 커널에도 절편이 있음 (플링에는 x)\n",
    "![image](https://user-images.githubusercontent.com/47033052/108341675-401a1000-721d-11eb-822b-44721af9140d.png)\n"
   ]
  },
  {
   "cell_type": "code",
   "execution_count": 1,
   "id": "mechanical-gardening",
   "metadata": {},
   "outputs": [],
   "source": [
    "import numpy as np"
   ]
  },
  {
   "cell_type": "code",
   "execution_count": 2,
   "id": "beneficial-state",
   "metadata": {},
   "outputs": [],
   "source": [
    "def relu(x):\n",
    "    return np.maximum(x, 0)"
   ]
  },
  {
   "cell_type": "code",
   "execution_count": 3,
   "id": "dedicated-desperate",
   "metadata": {},
   "outputs": [],
   "source": [
    "import tensorflow as tf\n",
    "\n",
    "class ConvolutionNetwork:\n",
    "    \n",
    "    def __init__(self, n_kernels=10, units=10, batch_size=32, learning_rate=0.1):\n",
    "        self.n_kernels = n_kernels  # 합성곱의 커널 개수\n",
    "        self.kernel_size = 3        # 커널 크기\n",
    "        self.optimizer = None       # 옵티마이저\n",
    "        self.conv_w = None          # 합성곱 층의 가중치\n",
    "        self.conv_b = None          # 합성곱 층의 절편\n",
    "        self.units = units          # 은닉층의 뉴런 개수\n",
    "        self.batch_size = batch_size  # 배치 크기\n",
    "        self.w1 = None              # 은닉층의 가중치\n",
    "        self.b1 = None              # 은닉층의 절편\n",
    "        self.w2 = None              # 출력층의 가중치\n",
    "        self.b2 = None              # 출력층의 절편\n",
    "        self.a1 = None              # 은닉층의 활성화 출력\n",
    "        self.losses = []            # 훈련 손실\n",
    "        self.val_losses = []        # 검증 손실\n",
    "        self.lr = learning_rate     # 학습률\n",
    "\n",
    "    def forpass(self, x):\n",
    "        # 3x3 합성곱 연산을 수행합니다.\n",
    "        c_out = tf.nn.conv2d(x, self.conv_w, strides=1, padding='SAME') + self.conv_b\n",
    "        # 렐루 활성화 함수를 적용합니다.\n",
    "        r_out = tf.nn.relu(c_out)\n",
    "        # 2x2 최대 풀링을 적용합니다.\n",
    "        p_out = tf.nn.max_pool2d(r_out, ksize=2, strides=2, padding='VALID')\n",
    "        # 첫 번째 배치 차원을 제외하고 출력을 일렬로 펼칩니다.\n",
    "        f_out = tf.reshape(p_out, [x.shape[0], -1])\n",
    "        z1 = tf.matmul(f_out, self.w1) + self.b1     # 첫 번째 층의 선형 식을 계산합니다\n",
    "        a1 = tf.nn.relu(z1)                          # 활성화 함수를 적용합니다\n",
    "        z2 = tf.matmul(a1, self.w2) + self.b2        # 두 번째 층의 선형 식을 계산합니다.\n",
    "        return z2\n",
    "    \n",
    "    def init_weights(self, input_shape, n_classes):\n",
    "        g = tf.initializers.glorot_uniform()\n",
    "        self.conv_w = tf.Variable(g((3, 3, 1, self.n_kernels)))\n",
    "        self.conv_b = tf.Variable(np.zeros(self.n_kernels), dtype=float)\n",
    "        n_features = 14 * 14 * self.n_kernels\n",
    "        self.w1 = tf.Variable(g((n_features, self.units)))          # (특성 개수, 은닉층의 크기)\n",
    "        self.b1 = tf.Variable(np.zeros(self.units), dtype=float)    # 은닉층의 크기\n",
    "        self.w2 = tf.Variable(g((self.units, n_classes)))           # (은닉층의 크기, 클래스 개수)\n",
    "        self.b2 = tf.Variable(np.zeros(n_classes), dtype=float)     # 클래스 개수\n",
    "        \n",
    "    def fit(self, x, y, epochs=100, x_val=None, y_val=None):\n",
    "        self.init_weights(x.shape, y.shape[1])    # 은닉층과 출력층의 가중치를 초기화합니다.\n",
    "        self.optimizer = tf.optimizers.SGD(learning_rate=self.lr)\n",
    "        # epochs만큼 반복합니다.\n",
    "        for i in range(epochs):\n",
    "            print('에포크', i, end=' ')\n",
    "            # 제너레이터 함수에서 반환한 미니배치를 순환합니다.\n",
    "            batch_losses = []\n",
    "            for x_batch, y_batch in self.gen_batch(x, y):\n",
    "                print('.', end='')\n",
    "                self.training(x_batch, y_batch)\n",
    "                # 배치 손실을 기록합니다.\n",
    "                batch_losses.append(self.get_loss(x_batch, y_batch))\n",
    "            print()\n",
    "            # 배치 손실 평균내어 훈련 손실 값으로 저장합니다.\n",
    "            self.losses.append(np.mean(batch_losses))\n",
    "            # 검증 세트에 대한 손실을 계산합니다.\n",
    "            self.val_losses.append(self.get_loss(x_val, y_val))\n",
    "\n",
    "    # 미니배치 제너레이터 함수\n",
    "    def gen_batch(self, x, y):\n",
    "        bins = len(x) // self.batch_size                   # 미니배치 횟수\n",
    "        indexes = np.random.permutation(np.arange(len(x))) # 인덱스를 섞습니다.\n",
    "        x = x[indexes]\n",
    "        y = y[indexes]\n",
    "        for i in range(bins):\n",
    "            start = self.batch_size * i\n",
    "            end = self.batch_size * (i + 1)\n",
    "            yield x[start:end], y[start:end]   # batch_size만큼 슬라이싱하여 반환합니다.\n",
    "            \n",
    "    def training(self, x, y):\n",
    "        m = len(x)                    # 샘플 개수를 저장합니다.\n",
    "        with tf.GradientTape() as tape:\n",
    "            z = self.forpass(x)       # 정방향 계산을 수행합니다.\n",
    "            # 손실을 계산합니다.\n",
    "            loss = tf.nn.softmax_cross_entropy_with_logits(y, z)\n",
    "            loss = tf.reduce_mean(loss)\n",
    "\n",
    "        weights_list = [self.conv_w, self.conv_b,\n",
    "                        self.w1, self.b1, self.w2, self.b2]\n",
    "        # 가중치에 대한 그래디언트를 계산합니다.\n",
    "        grads = tape.gradient(loss, weights_list)\n",
    "        # 가중치를 업데이트합니다.\n",
    "        self.optimizer.apply_gradients(zip(grads, weights_list))\n",
    "   \n",
    "    def predict(self, x):\n",
    "        z = self.forpass(x)                 # 정방향 계산을 수행합니다.\n",
    "        return np.argmax(z.numpy(), axis=1) # 가장 큰 값의 인덱스를 반환합니다.\n",
    "    \n",
    "    def score(self, x, y):\n",
    "        # 예측과 타깃 열 벡터를 비교하여 True의 비율을 반환합니다.\n",
    "        return np.mean(self.predict(x) == np.argmax(y, axis=1))\n",
    "\n",
    "    def get_loss(self, x, y):\n",
    "        z = self.forpass(x)                 # 정방향 계산을 수행합니다.\n",
    "        # 손실을 계산하여 저장합니다.\n",
    "        loss = tf.reduce_mean(tf.nn.softmax_cross_entropy_with_logits(y, z))\n",
    "        return loss.numpy()"
   ]
  },
  {
   "cell_type": "code",
   "execution_count": 4,
   "id": "fallen-conservative",
   "metadata": {},
   "outputs": [],
   "source": [
    "(x_train_all, y_train_all), (x_test, y_test) = tf.keras.datasets.fashion_mnist.load_data()"
   ]
  },
  {
   "cell_type": "code",
   "execution_count": 5,
   "id": "stuck-public",
   "metadata": {},
   "outputs": [],
   "source": [
    "from sklearn.model_selection import train_test_split\n",
    "x_train, x_val, y_train, y_val = train_test_split(x_train_all, y_train_all, stratify=y_train_all, \n",
    "                                                  test_size=0.2, random_state=42)"
   ]
  },
  {
   "cell_type": "code",
   "execution_count": 6,
   "id": "controlling-helena",
   "metadata": {},
   "outputs": [],
   "source": [
    "y_train_encoded = tf.keras.utils.to_categorical(y_train)\n",
    "y_val_encoded = tf.keras.utils.to_categorical(y_val)"
   ]
  },
  {
   "cell_type": "code",
   "execution_count": 7,
   "id": "stable-mustang",
   "metadata": {},
   "outputs": [],
   "source": [
    "x_train = x_train.reshape(-1, 28, 28, 1)\n",
    "x_val = x_val.reshape(-1, 28, 28, 1)"
   ]
  },
  {
   "cell_type": "code",
   "execution_count": 8,
   "id": "architectural-delight",
   "metadata": {},
   "outputs": [],
   "source": [
    "x_train = x_train / 255\n",
    "x_val = x_val / 255"
   ]
  },
  {
   "cell_type": "markdown",
   "id": "nervous-mauritius",
   "metadata": {},
   "source": [
    "## 케라스로 합성곱 신경망 모델 구현"
   ]
  },
  {
   "cell_type": "code",
   "execution_count": 9,
   "id": "external-connecticut",
   "metadata": {},
   "outputs": [],
   "source": [
    "from tensorflow.keras.layers import Conv2D, MaxPooling2D, Flatten, Dense"
   ]
  },
  {
   "cell_type": "code",
   "execution_count": 10,
   "id": "valued-hygiene",
   "metadata": {},
   "outputs": [],
   "source": [
    "conv1 = tf.keras.Sequential()\n",
    "conv1.add(Conv2D(10, (3, 3), activation='relu', padding='same', input_shape=(28, 28, 1)))\n",
    "conv1.add(MaxPooling2D((2, 2)))\n",
    "conv1.add(Flatten())\n",
    "conv1.add(Dense(100, activation='relu'))\n",
    "conv1.add(Dense(10, activation='softmax'))"
   ]
  },
  {
   "cell_type": "code",
   "execution_count": 11,
   "id": "taken-brief",
   "metadata": {},
   "outputs": [
    {
     "name": "stdout",
     "output_type": "stream",
     "text": [
      "Model: \"sequential\"\n",
      "_________________________________________________________________\n",
      "Layer (type)                 Output Shape              Param #   \n",
      "=================================================================\n",
      "conv2d (Conv2D)              (None, 28, 28, 10)        100       \n",
      "_________________________________________________________________\n",
      "max_pooling2d (MaxPooling2D) (None, 14, 14, 10)        0         \n",
      "_________________________________________________________________\n",
      "flatten (Flatten)            (None, 1960)              0         \n",
      "_________________________________________________________________\n",
      "dense (Dense)                (None, 100)               196100    \n",
      "_________________________________________________________________\n",
      "dense_1 (Dense)              (None, 10)                1010      \n",
      "=================================================================\n",
      "Total params: 197,210\n",
      "Trainable params: 197,210\n",
      "Non-trainable params: 0\n",
      "_________________________________________________________________\n"
     ]
    }
   ],
   "source": [
    "conv1.summary()"
   ]
  },
  {
   "cell_type": "code",
   "execution_count": 12,
   "id": "fifth-depth",
   "metadata": {},
   "outputs": [],
   "source": [
    "conv1.compile(optimizer='adam', loss='categorical_crossentropy',\n",
    "              metrics=['accuracy'])"
   ]
  },
  {
   "cell_type": "code",
   "execution_count": 13,
   "id": "radical-leone",
   "metadata": {},
   "outputs": [
    {
     "name": "stdout",
     "output_type": "stream",
     "text": [
      "Epoch 1/20\n",
      "1500/1500 [==============================] - 5s 3ms/step - loss: 0.6246 - accuracy: 0.7830 - val_loss: 0.3459 - val_accuracy: 0.8813\n",
      "Epoch 2/20\n",
      "1500/1500 [==============================] - 4s 3ms/step - loss: 0.3256 - accuracy: 0.8838 - val_loss: 0.3003 - val_accuracy: 0.8898\n",
      "Epoch 3/20\n",
      "1500/1500 [==============================] - 5s 3ms/step - loss: 0.2700 - accuracy: 0.9016 - val_loss: 0.2828 - val_accuracy: 0.9018\n",
      "Epoch 4/20\n",
      "1500/1500 [==============================] - 4s 3ms/step - loss: 0.2310 - accuracy: 0.9158 - val_loss: 0.2645 - val_accuracy: 0.9046\n",
      "Epoch 5/20\n",
      "1500/1500 [==============================] - 4s 3ms/step - loss: 0.2059 - accuracy: 0.9233 - val_loss: 0.2548 - val_accuracy: 0.9098\n",
      "Epoch 6/20\n",
      "1500/1500 [==============================] - 5s 3ms/step - loss: 0.1825 - accuracy: 0.9320 - val_loss: 0.2475 - val_accuracy: 0.9137\n",
      "Epoch 7/20\n",
      "1500/1500 [==============================] - 4s 3ms/step - loss: 0.1678 - accuracy: 0.9384 - val_loss: 0.2491 - val_accuracy: 0.9128\n",
      "Epoch 8/20\n",
      "1500/1500 [==============================] - 5s 3ms/step - loss: 0.1487 - accuracy: 0.9457 - val_loss: 0.2459 - val_accuracy: 0.9163\n",
      "Epoch 9/20\n",
      "1500/1500 [==============================] - 5s 3ms/step - loss: 0.1352 - accuracy: 0.9506 - val_loss: 0.2476 - val_accuracy: 0.9167\n",
      "Epoch 10/20\n",
      "1500/1500 [==============================] - 4s 3ms/step - loss: 0.1210 - accuracy: 0.9574 - val_loss: 0.2727 - val_accuracy: 0.9122\n",
      "Epoch 11/20\n",
      "1500/1500 [==============================] - 5s 3ms/step - loss: 0.1091 - accuracy: 0.9604 - val_loss: 0.2957 - val_accuracy: 0.9109\n",
      "Epoch 12/20\n",
      "1500/1500 [==============================] - 4s 3ms/step - loss: 0.1002 - accuracy: 0.9642 - val_loss: 0.2745 - val_accuracy: 0.9178\n",
      "Epoch 13/20\n",
      "1500/1500 [==============================] - 5s 3ms/step - loss: 0.0872 - accuracy: 0.9684 - val_loss: 0.2974 - val_accuracy: 0.9126\n",
      "Epoch 14/20\n",
      "1500/1500 [==============================] - 5s 3ms/step - loss: 0.0791 - accuracy: 0.9713 - val_loss: 0.3353 - val_accuracy: 0.9097\n",
      "Epoch 15/20\n",
      "1500/1500 [==============================] - 5s 3ms/step - loss: 0.0708 - accuracy: 0.9748 - val_loss: 0.3310 - val_accuracy: 0.9123\n",
      "Epoch 16/20\n",
      "1500/1500 [==============================] - 5s 3ms/step - loss: 0.0618 - accuracy: 0.9786 - val_loss: 0.3374 - val_accuracy: 0.9143\n",
      "Epoch 17/20\n",
      "1500/1500 [==============================] - 5s 3ms/step - loss: 0.0567 - accuracy: 0.9796 - val_loss: 0.3546 - val_accuracy: 0.9153\n",
      "Epoch 18/20\n",
      "1500/1500 [==============================] - 5s 3ms/step - loss: 0.0509 - accuracy: 0.9816 - val_loss: 0.3660 - val_accuracy: 0.9158\n",
      "Epoch 19/20\n",
      "1500/1500 [==============================] - 6s 4ms/step - loss: 0.0450 - accuracy: 0.9846 - val_loss: 0.3886 - val_accuracy: 0.9110\n",
      "Epoch 20/20\n",
      "1500/1500 [==============================] - 6s 4ms/step - loss: 0.0394 - accuracy: 0.9866 - val_loss: 0.4082 - val_accuracy: 0.9130\n"
     ]
    }
   ],
   "source": [
    "history = conv1.fit(x_train, y_train_encoded, epochs=20, \n",
    "                    validation_data=(x_val, y_val_encoded))"
   ]
  },
  {
   "cell_type": "code",
   "execution_count": 15,
   "id": "split-purpose",
   "metadata": {},
   "outputs": [
    {
     "data": {
      "image/png": "[encoded data removed]",
      "text/plain": [
       "<Figure size 432x288 with 1 Axes>"
      ]
     },
     "metadata": {
      "needs_background": "light"
     },
     "output_type": "display_data"
    }
   ],
   "source": [
    "import matplotlib.pyplot as plt\n",
    "\n",
    "plt.plot(history.history['loss'])\n",
    "plt.plot(history.history['val_loss'])\n",
    "plt.ylabel('loss')\n",
    "plt.xlabel('epoch')\n",
    "plt.legend(['train_loss', 'val_loss'])\n",
    "plt.show()\n",
    "# 과대 적합 발생"
   ]
  },
  {
   "cell_type": "code",
   "execution_count": 16,
   "id": "under-count",
   "metadata": {},
   "outputs": [
    {
     "data": {
      "image/png": "[encoded data removed]",
      "text/plain": [
       "<Figure size 432x288 with 1 Axes>"
      ]
     },
     "metadata": {
      "needs_background": "light"
     },
     "output_type": "display_data"
    }
   ],
   "source": [
    "plt.plot(history.history['accuracy'])\n",
    "plt.plot(history.history['val_accuracy'])\n",
    "plt.ylabel('accuracy')\n",
    "plt.xlabel('epoch')\n",
    "plt.legend(['train_accuracy', 'val_accuracy'])\n",
    "plt.show()"
   ]
  },
  {
   "cell_type": "code",
   "execution_count": 17,
   "id": "danish-sphere",
   "metadata": {},
   "outputs": [],
   "source": [
    "loss, accuracy = conv1.evaluate(x_val, y_val_encoded, verbose=0)"
   ]
  },
  {
   "cell_type": "code",
   "execution_count": 18,
   "id": "joint-excuse",
   "metadata": {},
   "outputs": [
    {
     "name": "stdout",
     "output_type": "stream",
     "text": [
      "0.9129999876022339\n"
     ]
    }
   ],
   "source": [
    "print(accuracy)"
   ]
  },
  {
   "cell_type": "markdown",
   "id": "qualified-reggae",
   "metadata": {},
   "source": [
    "### 드롭아웃\n",
    "- 과대적합을 막기 위해 어떤 특정 뉴런이 독차지를 방지하거나 기대하는 퍼포먼스를 보일 수 있게끔, 특정 뉴런을 제거함\n",
    "- 원래 정의는 테스트 데이터에서 빼야 하는데, 테스트 과정에서 이를 다시 사이즈를 메꾸는게 더 어려워 입력데이터에서 드롭아웃 후 빠진 만큼 메꿈"
   ]
  },
  {
   "cell_type": "code",
   "execution_count": 19,
   "id": "threatened-rebecca",
   "metadata": {},
   "outputs": [],
   "source": [
    "from tensorflow.keras.layers import Dropout"
   ]
  },
  {
   "cell_type": "code",
   "execution_count": 20,
   "id": "mental-album",
   "metadata": {},
   "outputs": [],
   "source": [
    "conv2 = tf.keras.Sequential()\n",
    "conv2.add(Conv2D(10, (3, 3), activation='relu', padding='same', input_shape=(28, 28, 1)))\n",
    "conv2.add(MaxPooling2D((2, 2)))\n",
    "conv2.add(Flatten())\n",
    "conv2.add(Dropout(0.5))   # 드롭아웃 적용\n",
    "conv2.add(Dense(100, activation='relu'))\n",
    "conv2.add(Dense(10, activation='softmax'))"
   ]
  },
  {
   "cell_type": "code",
   "execution_count": 21,
   "id": "opponent-leave",
   "metadata": {},
   "outputs": [
    {
     "name": "stdout",
     "output_type": "stream",
     "text": [
      "Model: \"sequential_1\"\n",
      "_________________________________________________________________\n",
      "Layer (type)                 Output Shape              Param #   \n",
      "=================================================================\n",
      "conv2d_1 (Conv2D)            (None, 28, 28, 10)        100       \n",
      "_________________________________________________________________\n",
      "max_pooling2d_1 (MaxPooling2 (None, 14, 14, 10)        0         \n",
      "_________________________________________________________________\n",
      "flatten_1 (Flatten)          (None, 1960)              0         \n",
      "_________________________________________________________________\n",
      "dropout (Dropout)            (None, 1960)              0         \n",
      "_________________________________________________________________\n",
      "dense_2 (Dense)              (None, 100)               196100    \n",
      "_________________________________________________________________\n",
      "dense_3 (Dense)              (None, 10)                1010      \n",
      "=================================================================\n",
      "Total params: 197,210\n",
      "Trainable params: 197,210\n",
      "Non-trainable params: 0\n",
      "_________________________________________________________________\n"
     ]
    }
   ],
   "source": [
    "conv2.summary()"
   ]
  },
  {
   "cell_type": "code",
   "execution_count": 22,
   "id": "controversial-flood",
   "metadata": {},
   "outputs": [],
   "source": [
    "conv2.compile(optimizer='adam', loss='categorical_crossentropy',\n",
    "              metrics=['accuracy'])"
   ]
  },
  {
   "cell_type": "code",
   "execution_count": 23,
   "id": "superior-dakota",
   "metadata": {},
   "outputs": [
    {
     "name": "stdout",
     "output_type": "stream",
     "text": [
      "Epoch 1/20\n",
      "1500/1500 [==============================] - 5s 3ms/step - loss: 0.6982 - accuracy: 0.7496 - val_loss: 0.3613 - val_accuracy: 0.8689\n",
      "Epoch 2/20\n",
      "1500/1500 [==============================] - 5s 3ms/step - loss: 0.3751 - accuracy: 0.8641 - val_loss: 0.3061 - val_accuracy: 0.8900\n",
      "Epoch 3/20\n",
      "1500/1500 [==============================] - 5s 3ms/step - loss: 0.3286 - accuracy: 0.8788 - val_loss: 0.2830 - val_accuracy: 0.9003\n",
      "Epoch 4/20\n",
      "1500/1500 [==============================] - 5s 3ms/step - loss: 0.3100 - accuracy: 0.8866 - val_loss: 0.2675 - val_accuracy: 0.9072\n",
      "Epoch 5/20\n",
      "1500/1500 [==============================] - 5s 3ms/step - loss: 0.2833 - accuracy: 0.8944 - val_loss: 0.2649 - val_accuracy: 0.9041\n",
      "Epoch 6/20\n",
      "1500/1500 [==============================] - 5s 3ms/step - loss: 0.2662 - accuracy: 0.9006 - val_loss: 0.2510 - val_accuracy: 0.9084\n",
      "Epoch 7/20\n",
      "1500/1500 [==============================] - 5s 3ms/step - loss: 0.2603 - accuracy: 0.9041 - val_loss: 0.2493 - val_accuracy: 0.9107\n",
      "Epoch 8/20\n",
      "1500/1500 [==============================] - 5s 3ms/step - loss: 0.2428 - accuracy: 0.9084 - val_loss: 0.2429 - val_accuracy: 0.9116\n",
      "Epoch 9/20\n",
      "1500/1500 [==============================] - 5s 3ms/step - loss: 0.2266 - accuracy: 0.9144 - val_loss: 0.2405 - val_accuracy: 0.9138\n",
      "Epoch 10/20\n",
      "1500/1500 [==============================] - 5s 3ms/step - loss: 0.2216 - accuracy: 0.9168 - val_loss: 0.2393 - val_accuracy: 0.9150\n",
      "Epoch 11/20\n",
      "1500/1500 [==============================] - 5s 3ms/step - loss: 0.2155 - accuracy: 0.9184 - val_loss: 0.2374 - val_accuracy: 0.9148\n",
      "Epoch 12/20\n",
      "1500/1500 [==============================] - 5s 3ms/step - loss: 0.2114 - accuracy: 0.9206 - val_loss: 0.2342 - val_accuracy: 0.9172\n",
      "Epoch 13/20\n",
      "1500/1500 [==============================] - 5s 3ms/step - loss: 0.2090 - accuracy: 0.9194 - val_loss: 0.2285 - val_accuracy: 0.9179\n",
      "Epoch 14/20\n",
      "1500/1500 [==============================] - 5s 3ms/step - loss: 0.1993 - accuracy: 0.9233 - val_loss: 0.2361 - val_accuracy: 0.9168\n",
      "Epoch 15/20\n",
      "1500/1500 [==============================] - 5s 3ms/step - loss: 0.1961 - accuracy: 0.9263 - val_loss: 0.2281 - val_accuracy: 0.9190\n",
      "Epoch 16/20\n",
      "1500/1500 [==============================] - 5s 3ms/step - loss: 0.1962 - accuracy: 0.9243 - val_loss: 0.2274 - val_accuracy: 0.9229\n",
      "Epoch 17/20\n",
      "1500/1500 [==============================] - 5s 3ms/step - loss: 0.1900 - accuracy: 0.9280 - val_loss: 0.2271 - val_accuracy: 0.9201\n",
      "Epoch 18/20\n",
      "1500/1500 [==============================] - 5s 3ms/step - loss: 0.1845 - accuracy: 0.9308 - val_loss: 0.2391 - val_accuracy: 0.9197\n",
      "Epoch 19/20\n",
      "1500/1500 [==============================] - 5s 3ms/step - loss: 0.1831 - accuracy: 0.9307 - val_loss: 0.2386 - val_accuracy: 0.9193\n",
      "Epoch 20/20\n",
      "1500/1500 [==============================] - 5s 3ms/step - loss: 0.1704 - accuracy: 0.9353 - val_loss: 0.2329 - val_accuracy: 0.9213\n"
     ]
    }
   ],
   "source": [
    "history = conv2.fit(x_train, y_train_encoded, epochs=20, \n",
    "                    validation_data=(x_val, y_val_encoded))"
   ]
  },
  {
   "cell_type": "code",
   "execution_count": 24,
   "id": "residential-responsibility",
   "metadata": {},
   "outputs": [
    {
     "data": {
      "image/png": "[encoded data removed]",
      "text/plain": [
       "<Figure size 432x288 with 1 Axes>"
      ]
     },
     "metadata": {
      "needs_background": "light"
     },
     "output_type": "display_data"
    }
   ],
   "source": [
    "plt.plot(history.history['loss'])\n",
    "plt.plot(history.history['val_loss'])\n",
    "plt.ylabel('loss')\n",
    "plt.xlabel('epoch')\n",
    "plt.legend(['train_loss', 'val_loss'])\n",
    "plt.show()"
   ]
  },
  {
   "cell_type": "code",
   "execution_count": 25,
   "id": "express-sauce",
   "metadata": {},
   "outputs": [
    {
     "data": {
      "image/png": "[encoded data removed]",
      "text/plain": [
       "<Figure size 432x288 with 1 Axes>"
      ]
     },
     "metadata": {
      "needs_background": "light"
     },
     "output_type": "display_data"
    }
   ],
   "source": [
    "plt.plot(history.history['accuracy'])\n",
    "plt.plot(history.history['val_accuracy'])\n",
    "plt.ylabel('accuracy')\n",
    "plt.xlabel('epoch')\n",
    "plt.legend(['train_accuracy', 'val_accuracy'])\n",
    "plt.show()"
   ]
  },
  {
   "cell_type": "code",
   "execution_count": 26,
   "id": "incoming-finger",
   "metadata": {},
   "outputs": [],
   "source": [
    "loss, accuracy = conv2.evaluate(x_val, y_val_encoded, verbose=0)"
   ]
  },
  {
   "cell_type": "code",
   "execution_count": 27,
   "id": "ranking-violin",
   "metadata": {},
   "outputs": [
    {
     "name": "stdout",
     "output_type": "stream",
     "text": [
      "0.9213333129882812\n"
     ]
    }
   ],
   "source": [
    "print(accuracy)"
   ]
  }
 ],
 "metadata": {
  "kernelspec": {
   "display_name": "Python 3",
   "language": "python",
   "name": "python3"
  },
  "language_info": {
   "codemirror_mode": {
    "name": "ipython",
    "version": 3
   },
   "file_extension": ".py",
   "mimetype": "text/x-python",
   "name": "python",
   "nbconvert_exporter": "python",
   "pygments_lexer": "ipython3",
   "version": "3.8.2"
  }
 },
 "nbformat": 4,
 "nbformat_minor": 5
}
